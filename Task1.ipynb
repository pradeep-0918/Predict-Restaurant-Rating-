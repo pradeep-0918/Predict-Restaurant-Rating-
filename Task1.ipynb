{
 "cells": [
  {
   "cell_type": "markdown",
   "id": "8034c866-fdc7-42f2-a965-05e3cd06662a",
   "metadata": {},
   "source": [
    "Task 1: Restaurant Aggregate Rating Prediction"
   ]
  },
  {
   "cell_type": "code",
   "execution_count": 25,
   "id": "70b997dd-0e3b-4d68-b35c-8b2d2a85bb85",
   "metadata": {},
   "outputs": [
    {
     "name": "stdout",
     "output_type": "stream",
     "text": [
      "Dataset is loaded Successfully\n"
     ]
    }
   ],
   "source": [
    "import pandas as pd\n",
    "import numpy as np\n",
    "df = pd.read_csv(r\"\\Users\\ADMIN\\Downloads\\Dataset .csv\")\n",
    "print(\"Dataset is loaded Successfully\")"
   ]
  },
  {
   "cell_type": "code",
   "execution_count": 26,
   "id": "9351f03a-2527-4801-95f0-78d27f02a1e9",
   "metadata": {},
   "outputs": [
    {
     "name": "stdout",
     "output_type": "stream",
     "text": [
      "Inspecting the structure\n",
      "<class 'pandas.core.frame.DataFrame'>\n",
      "RangeIndex: 9551 entries, 0 to 9550\n",
      "Data columns (total 21 columns):\n",
      " #   Column                Non-Null Count  Dtype  \n",
      "---  ------                --------------  -----  \n",
      " 0   Restaurant ID         9551 non-null   int64  \n",
      " 1   Restaurant Name       9551 non-null   object \n",
      " 2   Country Code          9551 non-null   int64  \n",
      " 3   City                  9551 non-null   object \n",
      " 4   Address               9551 non-null   object \n",
      " 5   Locality              9551 non-null   object \n",
      " 6   Locality Verbose      9551 non-null   object \n",
      " 7   Longitude             9551 non-null   float64\n",
      " 8   Latitude              9551 non-null   float64\n",
      " 9   Cuisines              9542 non-null   object \n",
      " 10  Average Cost for two  9551 non-null   int64  \n",
      " 11  Currency              9551 non-null   object \n",
      " 12  Has Table booking     9551 non-null   object \n",
      " 13  Has Online delivery   9551 non-null   object \n",
      " 14  Is delivering now     9551 non-null   object \n",
      " 15  Switch to order menu  9551 non-null   object \n",
      " 16  Price range           9551 non-null   int64  \n",
      " 17  Aggregate rating      9551 non-null   float64\n",
      " 18  Rating color          9551 non-null   object \n",
      " 19  Rating text           9551 non-null   object \n",
      " 20  Votes                 9551 non-null   int64  \n",
      "dtypes: float64(3), int64(5), object(13)\n",
      "memory usage: 1.5+ MB\n"
     ]
    }
   ],
   "source": [
    "print(\"Inspecting the structure\")\n",
    "df.info()"
   ]
  },
  {
   "cell_type": "code",
   "execution_count": 27,
   "id": "61e21807-6d63-4499-a62e-68657085eb36",
   "metadata": {},
   "outputs": [
    {
     "name": "stdout",
     "output_type": "stream",
     "text": [
      "First 5 items in Aggregate Rating\n"
     ]
    },
    {
     "data": {
      "text/html": [
       "<div>\n",
       "<style scoped>\n",
       "    .dataframe tbody tr th:only-of-type {\n",
       "        vertical-align: middle;\n",
       "    }\n",
       "\n",
       "    .dataframe tbody tr th {\n",
       "        vertical-align: top;\n",
       "    }\n",
       "\n",
       "    .dataframe thead th {\n",
       "        text-align: right;\n",
       "    }\n",
       "</style>\n",
       "<table border=\"1\" class=\"dataframe\">\n",
       "  <thead>\n",
       "    <tr style=\"text-align: right;\">\n",
       "      <th></th>\n",
       "      <th>Restaurant ID</th>\n",
       "      <th>Restaurant Name</th>\n",
       "      <th>Country Code</th>\n",
       "      <th>City</th>\n",
       "      <th>Address</th>\n",
       "      <th>Locality</th>\n",
       "      <th>Locality Verbose</th>\n",
       "      <th>Longitude</th>\n",
       "      <th>Latitude</th>\n",
       "      <th>Cuisines</th>\n",
       "      <th>...</th>\n",
       "      <th>Currency</th>\n",
       "      <th>Has Table booking</th>\n",
       "      <th>Has Online delivery</th>\n",
       "      <th>Is delivering now</th>\n",
       "      <th>Switch to order menu</th>\n",
       "      <th>Price range</th>\n",
       "      <th>Aggregate rating</th>\n",
       "      <th>Rating color</th>\n",
       "      <th>Rating text</th>\n",
       "      <th>Votes</th>\n",
       "    </tr>\n",
       "  </thead>\n",
       "  <tbody>\n",
       "    <tr>\n",
       "      <th>0</th>\n",
       "      <td>6317637</td>\n",
       "      <td>Le Petit Souffle</td>\n",
       "      <td>162</td>\n",
       "      <td>Makati City</td>\n",
       "      <td>Third Floor, Century City Mall, Kalayaan Avenu...</td>\n",
       "      <td>Century City Mall, Poblacion, Makati City</td>\n",
       "      <td>Century City Mall, Poblacion, Makati City, Mak...</td>\n",
       "      <td>121.027535</td>\n",
       "      <td>14.565443</td>\n",
       "      <td>French, Japanese, Desserts</td>\n",
       "      <td>...</td>\n",
       "      <td>Botswana Pula(P)</td>\n",
       "      <td>Yes</td>\n",
       "      <td>No</td>\n",
       "      <td>No</td>\n",
       "      <td>No</td>\n",
       "      <td>3</td>\n",
       "      <td>4.8</td>\n",
       "      <td>Dark Green</td>\n",
       "      <td>Excellent</td>\n",
       "      <td>314</td>\n",
       "    </tr>\n",
       "    <tr>\n",
       "      <th>1</th>\n",
       "      <td>6304287</td>\n",
       "      <td>Izakaya Kikufuji</td>\n",
       "      <td>162</td>\n",
       "      <td>Makati City</td>\n",
       "      <td>Little Tokyo, 2277 Chino Roces Avenue, Legaspi...</td>\n",
       "      <td>Little Tokyo, Legaspi Village, Makati City</td>\n",
       "      <td>Little Tokyo, Legaspi Village, Makati City, Ma...</td>\n",
       "      <td>121.014101</td>\n",
       "      <td>14.553708</td>\n",
       "      <td>Japanese</td>\n",
       "      <td>...</td>\n",
       "      <td>Botswana Pula(P)</td>\n",
       "      <td>Yes</td>\n",
       "      <td>No</td>\n",
       "      <td>No</td>\n",
       "      <td>No</td>\n",
       "      <td>3</td>\n",
       "      <td>4.5</td>\n",
       "      <td>Dark Green</td>\n",
       "      <td>Excellent</td>\n",
       "      <td>591</td>\n",
       "    </tr>\n",
       "    <tr>\n",
       "      <th>2</th>\n",
       "      <td>6300002</td>\n",
       "      <td>Heat - Edsa Shangri-La</td>\n",
       "      <td>162</td>\n",
       "      <td>Mandaluyong City</td>\n",
       "      <td>Edsa Shangri-La, 1 Garden Way, Ortigas, Mandal...</td>\n",
       "      <td>Edsa Shangri-La, Ortigas, Mandaluyong City</td>\n",
       "      <td>Edsa Shangri-La, Ortigas, Mandaluyong City, Ma...</td>\n",
       "      <td>121.056831</td>\n",
       "      <td>14.581404</td>\n",
       "      <td>Seafood, Asian, Filipino, Indian</td>\n",
       "      <td>...</td>\n",
       "      <td>Botswana Pula(P)</td>\n",
       "      <td>Yes</td>\n",
       "      <td>No</td>\n",
       "      <td>No</td>\n",
       "      <td>No</td>\n",
       "      <td>4</td>\n",
       "      <td>4.4</td>\n",
       "      <td>Green</td>\n",
       "      <td>Very Good</td>\n",
       "      <td>270</td>\n",
       "    </tr>\n",
       "    <tr>\n",
       "      <th>3</th>\n",
       "      <td>6318506</td>\n",
       "      <td>Ooma</td>\n",
       "      <td>162</td>\n",
       "      <td>Mandaluyong City</td>\n",
       "      <td>Third Floor, Mega Fashion Hall, SM Megamall, O...</td>\n",
       "      <td>SM Megamall, Ortigas, Mandaluyong City</td>\n",
       "      <td>SM Megamall, Ortigas, Mandaluyong City, Mandal...</td>\n",
       "      <td>121.056475</td>\n",
       "      <td>14.585318</td>\n",
       "      <td>Japanese, Sushi</td>\n",
       "      <td>...</td>\n",
       "      <td>Botswana Pula(P)</td>\n",
       "      <td>No</td>\n",
       "      <td>No</td>\n",
       "      <td>No</td>\n",
       "      <td>No</td>\n",
       "      <td>4</td>\n",
       "      <td>4.9</td>\n",
       "      <td>Dark Green</td>\n",
       "      <td>Excellent</td>\n",
       "      <td>365</td>\n",
       "    </tr>\n",
       "    <tr>\n",
       "      <th>4</th>\n",
       "      <td>6314302</td>\n",
       "      <td>Sambo Kojin</td>\n",
       "      <td>162</td>\n",
       "      <td>Mandaluyong City</td>\n",
       "      <td>Third Floor, Mega Atrium, SM Megamall, Ortigas...</td>\n",
       "      <td>SM Megamall, Ortigas, Mandaluyong City</td>\n",
       "      <td>SM Megamall, Ortigas, Mandaluyong City, Mandal...</td>\n",
       "      <td>121.057508</td>\n",
       "      <td>14.584450</td>\n",
       "      <td>Japanese, Korean</td>\n",
       "      <td>...</td>\n",
       "      <td>Botswana Pula(P)</td>\n",
       "      <td>Yes</td>\n",
       "      <td>No</td>\n",
       "      <td>No</td>\n",
       "      <td>No</td>\n",
       "      <td>4</td>\n",
       "      <td>4.8</td>\n",
       "      <td>Dark Green</td>\n",
       "      <td>Excellent</td>\n",
       "      <td>229</td>\n",
       "    </tr>\n",
       "  </tbody>\n",
       "</table>\n",
       "<p>5 rows × 21 columns</p>\n",
       "</div>"
      ],
      "text/plain": [
       "   Restaurant ID         Restaurant Name  Country Code              City  \\\n",
       "0        6317637        Le Petit Souffle           162       Makati City   \n",
       "1        6304287        Izakaya Kikufuji           162       Makati City   \n",
       "2        6300002  Heat - Edsa Shangri-La           162  Mandaluyong City   \n",
       "3        6318506                    Ooma           162  Mandaluyong City   \n",
       "4        6314302             Sambo Kojin           162  Mandaluyong City   \n",
       "\n",
       "                                             Address  \\\n",
       "0  Third Floor, Century City Mall, Kalayaan Avenu...   \n",
       "1  Little Tokyo, 2277 Chino Roces Avenue, Legaspi...   \n",
       "2  Edsa Shangri-La, 1 Garden Way, Ortigas, Mandal...   \n",
       "3  Third Floor, Mega Fashion Hall, SM Megamall, O...   \n",
       "4  Third Floor, Mega Atrium, SM Megamall, Ortigas...   \n",
       "\n",
       "                                     Locality  \\\n",
       "0   Century City Mall, Poblacion, Makati City   \n",
       "1  Little Tokyo, Legaspi Village, Makati City   \n",
       "2  Edsa Shangri-La, Ortigas, Mandaluyong City   \n",
       "3      SM Megamall, Ortigas, Mandaluyong City   \n",
       "4      SM Megamall, Ortigas, Mandaluyong City   \n",
       "\n",
       "                                    Locality Verbose   Longitude   Latitude  \\\n",
       "0  Century City Mall, Poblacion, Makati City, Mak...  121.027535  14.565443   \n",
       "1  Little Tokyo, Legaspi Village, Makati City, Ma...  121.014101  14.553708   \n",
       "2  Edsa Shangri-La, Ortigas, Mandaluyong City, Ma...  121.056831  14.581404   \n",
       "3  SM Megamall, Ortigas, Mandaluyong City, Mandal...  121.056475  14.585318   \n",
       "4  SM Megamall, Ortigas, Mandaluyong City, Mandal...  121.057508  14.584450   \n",
       "\n",
       "                           Cuisines  ...          Currency Has Table booking  \\\n",
       "0        French, Japanese, Desserts  ...  Botswana Pula(P)               Yes   \n",
       "1                          Japanese  ...  Botswana Pula(P)               Yes   \n",
       "2  Seafood, Asian, Filipino, Indian  ...  Botswana Pula(P)               Yes   \n",
       "3                   Japanese, Sushi  ...  Botswana Pula(P)                No   \n",
       "4                  Japanese, Korean  ...  Botswana Pula(P)               Yes   \n",
       "\n",
       "  Has Online delivery Is delivering now Switch to order menu Price range  \\\n",
       "0                  No                No                   No           3   \n",
       "1                  No                No                   No           3   \n",
       "2                  No                No                   No           4   \n",
       "3                  No                No                   No           4   \n",
       "4                  No                No                   No           4   \n",
       "\n",
       "   Aggregate rating  Rating color Rating text Votes  \n",
       "0               4.8    Dark Green   Excellent   314  \n",
       "1               4.5    Dark Green   Excellent   591  \n",
       "2               4.4         Green   Very Good   270  \n",
       "3               4.9    Dark Green   Excellent   365  \n",
       "4               4.8    Dark Green   Excellent   229  \n",
       "\n",
       "[5 rows x 21 columns]"
      ]
     },
     "execution_count": 27,
     "metadata": {},
     "output_type": "execute_result"
    }
   ],
   "source": [
    "print(\"First 5 items in Aggregate Rating\")\n",
    "df.head()"
   ]
  },
  {
   "cell_type": "code",
   "execution_count": 28,
   "id": "ceb00d33-8a13-43b9-a404-624052c0cec9",
   "metadata": {},
   "outputs": [
    {
     "name": "stdout",
     "output_type": "stream",
     "text": [
      "Summarizing statistics for Aggregate Rating\n"
     ]
    },
    {
     "data": {
      "text/plain": [
       "count    9551.000000\n",
       "mean        2.666370\n",
       "std         1.516378\n",
       "min         0.000000\n",
       "25%         2.500000\n",
       "50%         3.200000\n",
       "75%         3.700000\n",
       "max         4.900000\n",
       "Name: Aggregate rating, dtype: float64"
      ]
     },
     "execution_count": 28,
     "metadata": {},
     "output_type": "execute_result"
    }
   ],
   "source": [
    "print(\"Summarizing statistics for Aggregate Rating\")\n",
    "df['Aggregate rating'].describe()"
   ]
  },
  {
   "cell_type": "code",
   "execution_count": 29,
   "id": "410b9494-dde1-4914-8509-ce67d18a4375",
   "metadata": {},
   "outputs": [
    {
     "name": "stdout",
     "output_type": "stream",
     "text": [
      "Visualize the distribution of target variable (Aggregate Rating)\n"
     ]
    },
    {
     "data": {
      "image/png": "[encoded data removed]",
      "text/plain": [
       "<Figure size 1000x600 with 1 Axes>"
      ]
     },
     "metadata": {},
     "output_type": "display_data"
    }
   ],
   "source": [
    "print(\"Visualize the distribution of target variable (Aggregate Rating)\")\n",
    "import matplotlib.pyplot as plt\n",
    "import seaborn as sns\n",
    "plt.figure(figsize=(10,6))\n",
    "sns.histplot(df['Aggregate rating'],kde = True,bins = 20,color = \"paleGreen\")\n",
    "plt.title('Distribution of Aggregate Rating')\n",
    "plt.xlabel('Aggregate Rating')\n",
    "plt.ylabel('Number of Restaurant')\n",
    "plt.show()"
   ]
  },
  {
   "cell_type": "code",
   "execution_count": 30,
   "id": "2f3c165b-759c-4a27-b1bc-5e2f56d6cec1",
   "metadata": {},
   "outputs": [
    {
     "name": "stdout",
     "output_type": "stream",
     "text": [
      "Checking for Nan values / missing values\n"
     ]
    },
    {
     "data": {
      "text/plain": [
       "Restaurant ID           0\n",
       "Restaurant Name         0\n",
       "Country Code            0\n",
       "City                    0\n",
       "Address                 0\n",
       "Locality                0\n",
       "Locality Verbose        0\n",
       "Longitude               0\n",
       "Latitude                0\n",
       "Cuisines                9\n",
       "Average Cost for two    0\n",
       "Currency                0\n",
       "Has Table booking       0\n",
       "Has Online delivery     0\n",
       "Is delivering now       0\n",
       "Switch to order menu    0\n",
       "Price range             0\n",
       "Aggregate rating        0\n",
       "Rating color            0\n",
       "Rating text             0\n",
       "Votes                   0\n",
       "dtype: int64"
      ]
     },
     "execution_count": 30,
     "metadata": {},
     "output_type": "execute_result"
    }
   ],
   "source": [
    "print(\"Checking for Nan values / missing values\")\n",
    "df.isnull().sum()"
   ]
  },
  {
   "cell_type": "code",
   "execution_count": 31,
   "id": "1dd2aaec-2bde-4bd2-919b-adf6c72b4b55",
   "metadata": {},
   "outputs": [
    {
     "name": "stdout",
     "output_type": "stream",
     "text": [
      "Handling missing Values in 'Cuisines' Column\n",
      "Again Check for Nan values and Missing Values\n"
     ]
    },
    {
     "data": {
      "text/plain": [
       "Restaurant ID           0\n",
       "Restaurant Name         0\n",
       "Country Code            0\n",
       "City                    0\n",
       "Address                 0\n",
       "Locality                0\n",
       "Locality Verbose        0\n",
       "Longitude               0\n",
       "Latitude                0\n",
       "Cuisines                0\n",
       "Average Cost for two    0\n",
       "Currency                0\n",
       "Has Table booking       0\n",
       "Has Online delivery     0\n",
       "Is delivering now       0\n",
       "Switch to order menu    0\n",
       "Price range             0\n",
       "Aggregate rating        0\n",
       "Rating color            0\n",
       "Rating text             0\n",
       "Votes                   0\n",
       "dtype: int64"
      ]
     },
     "execution_count": 31,
     "metadata": {},
     "output_type": "execute_result"
    }
   ],
   "source": [
    "print(\"Handling missing Values in 'Cuisines' Column\")\n",
    "df['Cuisines'] = df['Cuisines'].fillna(df['Cuisines'].mode()[0])\n",
    "print(\"Again Check for Nan values and Missing Values\")\n",
    "df.isnull().sum()"
   ]
  },
  {
   "cell_type": "code",
   "execution_count": 32,
   "id": "5dde9c85-1b59-450e-b8be-cb3221454186",
   "metadata": {},
   "outputs": [
    {
     "data": {
      "text/plain": [
       "array([162,  30, 216,  14,  37, 184, 214,   1,  94, 148, 215, 166, 189,\n",
       "       191, 208], dtype=int64)"
      ]
     },
     "execution_count": 32,
     "metadata": {},
     "output_type": "execute_result"
    }
   ],
   "source": [
    "df['Country Code']\n",
    "df['Country Code'].unique()"
   ]
  },
  {
   "cell_type": "code",
   "execution_count": 33,
   "id": "a1fdeafb-78e8-4294-8749-fc291a792d1d",
   "metadata": {},
   "outputs": [
    {
     "name": "stdout",
     "output_type": "stream",
     "text": [
      "Feature Engineering for Converting Country Code to Actual Country Name\n",
      "Engineered Country Feature from Country Code\n"
     ]
    },
    {
     "data": {
      "text/plain": [
       "array(['Philippines', 'Brazil', 'United States', 'Australia', 'Canada',\n",
       "       'Singapore', 'UAE', 'India', 'Indonesia', 'New Zealand',\n",
       "       'United Kingdom', 'qutar', 'South Africa', 'Sri Lanka', 'Turkey'],\n",
       "      dtype=object)"
      ]
     },
     "execution_count": 33,
     "metadata": {},
     "output_type": "execute_result"
    }
   ],
   "source": [
    "print(\"Feature Engineering for Converting Country Code to Actual Country Name\")\n",
    "Country_codes={1:'India',14:'Australia',30:'Brazil',37:'Canada',94:'Indonesia',148:'New Zealand',162:'Philippines',166:'qutar',184:'Singapore',189:'South Africa',191:'Sri Lanka',208:'Turkey',214:'UAE',215:'United Kingdom',216:'United States'}\n",
    "df['Country'] = df['Country Code'].map(Country_codes)\n",
    "print(\"Engineered Country Feature from Country Code\")\n",
    "df['Country']\n",
    "df['Country'].unique()"
   ]
  },
  {
   "cell_type": "code",
   "execution_count": 34,
   "id": "a873ec8d-e0cc-44c4-baeb-8a28703ea829",
   "metadata": {},
   "outputs": [
    {
     "name": "stdout",
     "output_type": "stream",
     "text": [
      "Drop unwanted data feature\n",
      "Dropped 10 unwanted data\n"
     ]
    }
   ],
   "source": [
    "print(\"Drop unwanted data feature\")\n",
    "df.columns\n",
    "Columns_to_drop = ['Restaurant ID','Restaurant Name','Address','Locality','Locality Verbose','Country Code','Currency','Rating color','Rating text','Switch to order menu']\n",
    "print(f\"Dropped {len(Columns_to_drop)} unwanted data\")\n",
    "df.drop(columns=Columns_to_drop, axis=1, inplace=True)"
   ]
  },
  {
   "cell_type": "code",
   "execution_count": 35,
   "id": "75aeb877-b298-4e29-8a1b-abdcc377b9cc",
   "metadata": {},
   "outputs": [
    {
     "data": {
      "text/plain": [
       "Index(['City', 'Longitude', 'Latitude', 'Cuisines', 'Average Cost for two',\n",
       "       'Has Table booking', 'Has Online delivery', 'Is delivering now',\n",
       "       'Price range', 'Aggregate rating', 'Votes', 'Country'],\n",
       "      dtype='object')"
      ]
     },
     "execution_count": 35,
     "metadata": {},
     "output_type": "execute_result"
    }
   ],
   "source": [
    "df.columns"
   ]
  },
  {
   "cell_type": "code",
   "execution_count": 36,
   "id": "2d32863b-95b4-46ed-b0c3-dd48d6bafeb2",
   "metadata": {},
   "outputs": [
    {
     "name": "stdout",
     "output_type": "stream",
     "text": [
      "Dataframe after Feature Engineering and Feature selection\n",
      "['City', 'Longitude', 'Latitude', 'Cuisines', 'Average Cost for two', 'Has Table booking', 'Has Online delivery', 'Is delivering now', 'Price range', 'Aggregate rating', 'Votes', 'Country']\n"
     ]
    }
   ],
   "source": [
    "print(\"Dataframe after Feature Engineering and Feature selection\")\n",
    "df.head()\n",
    "print(df.columns.tolist())"
   ]
  },
  {
   "cell_type": "code",
   "execution_count": 37,
   "id": "c10a79bd-659f-4567-b4d6-0d71f262f82b",
   "metadata": {},
   "outputs": [
    {
     "name": "stdout",
     "output_type": "stream",
     "text": [
      "Spliting Feature into two category\n",
      "Numerical data Features: ['Longitude', 'Latitude', 'Average Cost for two', 'Price range', 'Aggregate rating', 'Votes']\n",
      "categorial Features: ['City', 'Cuisines', 'Has Table booking', 'Has Online delivery', 'Is delivering now', 'Country']\n",
      "Target Variable: Aggregate Rating\n"
     ]
    }
   ],
   "source": [
    "print(\"Spliting Feature into two category\")\n",
    "numerical_feature = df.select_dtypes(include = np.number).columns.tolist()\n",
    "categorical_feature = df.select_dtypes(include = 'object').columns.tolist()\n",
    "print(f\"Numerical data Features: {numerical_feature}\")\n",
    "print(f\"categorial Features: {categorical_feature}\")\n",
    "print(f\"Target Variable: Aggregate Rating\")"
   ]
  },
  {
   "cell_type": "code",
   "execution_count": 38,
   "id": "5ece00bd-b22b-476f-a63b-6c7317ebb922",
   "metadata": {},
   "outputs": [
    {
     "name": "stdout",
     "output_type": "stream",
     "text": [
      "Defining Feature x and target variable Y\n",
      "Original Feature(x) Shape: (9551, 11)\n",
      "target (y) shape: (9551,)\n"
     ]
    }
   ],
   "source": [
    "print(\"Defining Feature x and target variable Y\")\n",
    "x = df.drop('Aggregate rating',axis = 1)\n",
    "y = df['Aggregate rating']\n",
    "print(f\"Original Feature(x) Shape: {x.shape}\")\n",
    "print(f\"target (y) shape: {y.shape}\")"
   ]
  },
  {
   "cell_type": "code",
   "execution_count": 39,
   "id": "848fe110-545e-4bef-b2e9-99d5a1c62803",
   "metadata": {},
   "outputs": [
    {
     "name": "stdout",
     "output_type": "stream",
     "text": [
      "Again Splting the dataset for Scaling And Encoding\n",
      "Numerical_scaling: ['Longitude', 'Latitude', 'Average Cost for two']\n",
      "categorial_scaling: ['City', 'Country', 'Has Table booking', 'Has Online delivery', 'Is delivering now', 'Price range', 'Cuisines']\n"
     ]
    }
   ],
   "source": [
    "print(\"Again Splting the dataset for Scaling And Encoding\")\n",
    "numerical_scaling = ['Longitude', 'Latitude', 'Average Cost for two']\n",
    "categorial_scaling = ['City', 'Country', 'Has Table booking', 'Has Online delivery', 'Is delivering now', 'Price range', 'Cuisines']\n",
    "print(f\"Numerical_scaling: {numerical_scaling}\")\n",
    "print(f\"categorial_scaling: {categorial_scaling}\")"
   ]
  },
  {
   "cell_type": "code",
   "execution_count": 40,
   "id": "eb7170ce-2c5b-48f1-9203-9461298596e3",
   "metadata": {},
   "outputs": [
    {
     "name": "stdout",
     "output_type": "stream",
     "text": [
      "training and testing the data\n",
      "x_train shape: (7640, 11) x_test shape: (1911, 11)\n",
      "y_train shape: (7640,) y_test shape: (1911,)\n"
     ]
    }
   ],
   "source": [
    "from sklearn.model_selection import train_test_split\n",
    "print(\"training and testing the data\")\n",
    "x_train, x_test, y_train , y_test = train_test_split(x,y, test_size = 0.2,random_state = 42)\n",
    "print(f\"x_train shape: {x_train.shape} x_test shape: {x_test.shape}\")\n",
    "print(f\"y_train shape: {y_train.shape} y_test shape: {y_test.shape}\")"
   ]
  },
  {
   "cell_type": "code",
   "execution_count": 41,
   "id": "363eff9e-6891-4230-8a9d-d0b4ac2c5737",
   "metadata": {},
   "outputs": [
    {
     "name": "stdout",
     "output_type": "stream",
     "text": [
      "Preprocessor is done for both numerical and category (mean and standard deviation for 'num' and category for 'cat')\n"
     ]
    }
   ],
   "source": [
    "from sklearn.compose import ColumnTransformer\n",
    "from sklearn.preprocessing import StandardScaler, OneHotEncoder\n",
    "preprocessor = ColumnTransformer(transformers = [('num',StandardScaler(),numerical_scaling),\n",
    "                                                 ('cat',OneHotEncoder(handle_unknown = 'ignore',sparse_output = False),categorial_scaling)\n",
    "                                                ]\n",
    "                                 ,remainder='passthrough'\n",
    "                                )\n",
    "print(\"Preprocessor is done for both numerical and category (mean and standard deviation for 'num' and category for 'cat')\")"
   ]
  },
  {
   "cell_type": "code",
   "execution_count": 42,
   "id": "46c13490-f82c-40b5-8e99-4264122ce233",
   "metadata": {},
   "outputs": [
    {
     "name": "stdout",
     "output_type": "stream",
     "text": [
      "fitting train and test from preprocessor\n",
      "training question tranformed shape: (7640, 1696)\n",
      "test question transformed shape: (1911, 1696)\n",
      "First 5 rows and 5 Columns of transformed x_train_transformed: \n",
      "[[ 0.31932321  0.23836107  0.04716577  0.          0.        ]\n",
      " [ 0.31292726  0.25182236 -0.07164376  0.          0.        ]\n",
      " [ 0.32126469  0.24382698 -0.07164376  0.          0.        ]\n",
      " [ 0.31875326  0.25285923 -0.06174297  0.          0.        ]\n",
      " [ 0.31522898  0.25786375 -0.03864111  0.          0.        ]]\n"
     ]
    }
   ],
   "source": [
    "print(\"fitting train and test from preprocessor\")\n",
    "x_train_tranformed = preprocessor.fit_transform(x_train)\n",
    "x_test_transformed = preprocessor.transform(x_test)\n",
    "print(f\"training question tranformed shape: {x_train_tranformed .shape}\")\n",
    "print(f\"test question transformed shape: {x_test_transformed.shape}\")\n",
    "print(f\"First 5 rows and 5 Columns of transformed x_train_transformed: \\n{x_train_tranformed [:5,:5]}\")\n"
   ]
  },
  {
   "cell_type": "code",
   "execution_count": 43,
   "id": "be59aa25-fc4e-4487-97dc-2f72fb57c1cb",
   "metadata": {},
   "outputs": [
    {
     "name": "stdout",
     "output_type": "stream",
     "text": [
      "Model Selection\n",
      "Initializing Linear and Decision Tree\n",
      "check for type of both model : \n",
      "*LinearRegression \n",
      "*DecisionTreeRegressor\n"
     ]
    }
   ],
   "source": [
    "print(\"Model Selection\")\n",
    "from sklearn.linear_model import LinearRegression\n",
    "from sklearn.tree import DecisionTreeRegressor\n",
    "print(\"Initializing Linear and Decision Tree\")\n",
    "linear_model = LinearRegression()\n",
    "decision_tree_model = DecisionTreeRegressor(random_state=42)\n",
    "print(f\"check for type of both model : \\n*{type(linear_model).__name__} \\n*{type(decision_tree_model).__name__}\")"
   ]
  },
  {
   "cell_type": "code",
   "execution_count": 44,
   "id": "11ebed81-2ced-4a08-a97f-f7faf15e73f1",
   "metadata": {},
   "outputs": [
    {
     "name": "stdout",
     "output_type": "stream",
     "text": [
      "Training LinearRegression...\n",
      "LinearRegression training complete.\n"
     ]
    }
   ],
   "source": [
    "print(f\"Training {type(linear_model).__name__}...\")\n",
    "linear_model.fit(x_train_tranformed, y_train)\n",
    "print(f\"{type(linear_model).__name__} training complete.\")"
   ]
  },
  {
   "cell_type": "code",
   "execution_count": 45,
   "id": "b37d77f7-1791-49f8-8160-d9ba2859f614",
   "metadata": {},
   "outputs": [
    {
     "name": "stdout",
     "output_type": "stream",
     "text": [
      "\n",
      "Training DecisionTreeRegressor...\n",
      "DecisionTreeRegressor training complete.\n"
     ]
    }
   ],
   "source": [
    "print(f\"\\nTraining {type(decision_tree_model).__name__}...\")\n",
    "decision_tree_model.fit(x_train_tranformed, y_train)\n",
    "print(f\"{type(decision_tree_model).__name__} training complete.\")"
   ]
  },
  {
   "cell_type": "code",
   "execution_count": 46,
   "id": "f95e11e1-7232-43c2-8d17-f3059f51e43f",
   "metadata": {},
   "outputs": [
    {
     "name": "stdout",
     "output_type": "stream",
     "text": [
      "Model Evaluation for Linear Regression\n",
      "  Mean Absolute Error (MAE):     1704297.0215\n",
      "  Mean Squared Error (MSE):      206130464546692.5625\n",
      "  Root Mean Squared Error (RMSE):14357244.3229\n",
      "  R-squared (R2):                -90562651184231.1250\n",
      "Model Evaluation for Decision Tree Regressor\n",
      "  Mean Absolute Error (MAE):     0.2558\n",
      "  Mean Squared Error (MSE):      0.2558\n",
      "  Root Mean Squared Error (RMSE):0.3970\n",
      "  R-squared (R2):                0.9308\n"
     ]
    }
   ],
   "source": [
    "print(\"Model Evaluation for Linear Regression\")\n",
    "from sklearn.metrics import mean_absolute_error, mean_squared_error, r2_score\n",
    "y_pred_linear = linear_model.predict(x_test_transformed)\n",
    "MAE_linear_model = mean_absolute_error(y_test,y_pred_linear)\n",
    "MSE_linear_model =  mean_squared_error(y_test,y_pred_linear)\n",
    "RMSE_linear_model = np.sqrt(MSE_linear_model)\n",
    "r2_linear = r2_score(y_test,y_pred_linear)\n",
    "print(f\"  Mean Absolute Error (MAE):     {MAE_linear_model:.4f}\")\n",
    "print(f\"  Mean Squared Error (MSE):      {MSE_linear_model:.4f}\")\n",
    "print(f\"  Root Mean Squared Error (RMSE):{RMSE_linear_model :.4f}\")\n",
    "print(f\"  R-squared (R2):                {r2_linear:.4f}\")\n",
    "print(\"Model Evaluation for Decision Tree Regressor\")\n",
    "y_pred_dt = decision_tree_model.predict(x_test_transformed)\n",
    "MAE_dt_model = mean_absolute_error(y_test,y_pred_dt)\n",
    "MSE_dt_model =  mean_squared_error(y_test,y_pred_dt)\n",
    "RMSE_dt_model = np.sqrt(MSE_dt_model)\n",
    "r2_dt = r2_score(y_test,y_pred_dt)\n",
    "print(f\"  Mean Absolute Error (MAE):     {MAE_dt_model:.4f}\")\n",
    "print(f\"  Mean Squared Error (MSE):      {MAE_dt_model:.4f}\")\n",
    "print(f\"  Root Mean Squared Error (RMSE):{RMSE_dt_model :.4f}\")\n",
    "print(f\"  R-squared (R2):                {r2_dt:.4f}\")"
   ]
  },
  {
   "cell_type": "code",
   "execution_count": 50,
   "id": "29bde0a8-d4bf-41e0-a6b3-96116453f89e",
   "metadata": {},
   "outputs": [
    {
     "name": "stdout",
     "output_type": "stream",
     "text": [
      "Feature Importance Analysis\n",
      "\n",
      "Top 15 Most Important Features:\n",
      "                      Feature    Importance\n",
      "0              num__Longitude  1.714859e-02\n",
      "1               num__Latitude  1.126700e-02\n",
      "2   num__Average Cost for two  4.757054e-03\n",
      "3         cat__City_Abu Dhabi  5.329394e-05\n",
      "4              cat__City_Agra  0.000000e+00\n",
      "5         cat__City_Ahmedabad  1.961177e-05\n",
      "6            cat__City_Albany  1.514456e-06\n",
      "7         cat__City_Allahabad  0.000000e+00\n",
      "8          cat__City_Amritsar  7.881879e-05\n",
      "9            cat__City_Ankara  0.000000e+00\n",
      "10         cat__City_Armidale  0.000000e+00\n",
      "11           cat__City_Athens  3.786141e-07\n",
      "12         cat__City_Auckland  8.490421e-06\n",
      "13          cat__City_Augusta  4.391063e-06\n",
      "14       cat__City_Aurangabad  4.761001e-05\n",
      "15         cat__City_Balingup  0.000000e+00\n",
      "16          cat__City_Bandung  0.000000e+00\n",
      "17        cat__City_Bangalore  3.786141e-07\n"
     ]
    },
    {
     "name": "stderr",
     "output_type": "stream",
     "text": [
      "C:\\Users\\ADMIN\\AppData\\Local\\Temp\\ipykernel_13020\\1147514836.py:9: FutureWarning: \n",
      "\n",
      "Passing `palette` without assigning `hue` is deprecated and will be removed in v0.14.0. Assign the `y` variable to `hue` and set `legend=False` for the same effect.\n",
      "\n",
      "  sns.barplot(x='Importance', y='Feature', data=importances_df.head(15), palette='viridis')\n"
     ]
    },
    {
     "data": {
      "image/png": "[encoded data removed]",
      "text/plain": [
       "<Figure size 1200x800 with 1 Axes>"
      ]
     },
     "metadata": {},
     "output_type": "display_data"
    }
   ],
   "source": [
    "print(\"Feature Importance Analysis\")\n",
    "feature_importance = decision_tree_model.feature_importances_\n",
    "transformed_feature_names = preprocessor.get_feature_names_out()\n",
    "importance_df = pd.DataFrame({'Feature':transformed_feature_names,'Importance':feature_importance})\n",
    "importances_df = importance_df.sort_values(by = 'Importance',ascending = False)\n",
    "print(\"\\nTop 15 Most Important Features:\")\n",
    "print(importance_df.head(18))\n",
    "plt.figure(figsize=(12, 8))\n",
    "sns.barplot(x='Importance', y='Feature', data=importances_df.head(15), palette='viridis')\n",
    "plt.title('Top 15 Most Important Features for Aggregate Rating Prediction (Untuned Decision Tree)')\n",
    "plt.xlabel('Importance Score')\n",
    "plt.ylabel('Feature')\n",
    "plt.show()"
   ]
  },
  {
   "cell_type": "code",
   "execution_count": 53,
   "id": "8fd97ed8-9dfa-4843-8011-41385a7b9d9d",
   "metadata": {},
   "outputs": [
    {
     "name": "stdout",
     "output_type": "stream",
     "text": [
      "\n",
      "Top 15 Most Important Features:\n",
      "                      Feature    Importance\n",
      "0              num__Longitude  1.714859e-02\n",
      "1               num__Latitude  1.126700e-02\n",
      "2   num__Average Cost for two  4.757054e-03\n",
      "3         cat__City_Abu Dhabi  5.329394e-05\n",
      "4              cat__City_Agra  0.000000e+00\n",
      "5         cat__City_Ahmedabad  1.961177e-05\n",
      "6            cat__City_Albany  1.514456e-06\n",
      "7         cat__City_Allahabad  0.000000e+00\n",
      "8          cat__City_Amritsar  7.881879e-05\n",
      "9            cat__City_Ankara  0.000000e+00\n",
      "10         cat__City_Armidale  0.000000e+00\n",
      "11           cat__City_Athens  3.786141e-07\n",
      "12         cat__City_Auckland  8.490421e-06\n",
      "13          cat__City_Augusta  4.391063e-06\n",
      "14       cat__City_Aurangabad  4.761001e-05\n",
      "15         cat__City_Balingup  0.000000e+00\n",
      "16          cat__City_Bandung  0.000000e+00\n",
      "17        cat__City_Bangalore  3.786141e-07\n"
     ]
    },
    {
     "name": "stderr",
     "output_type": "stream",
     "text": [
      "C:\\Users\\ADMIN\\AppData\\Local\\Temp\\ipykernel_13020\\1101804273.py:4: FutureWarning: \n",
      "\n",
      "Passing `palette` without assigning `hue` is deprecated and will be removed in v0.14.0. Assign the `y` variable to `hue` and set `legend=False` for the same effect.\n",
      "\n",
      "  sns.barplot(x='Importance', y='Feature', data=importances_df.head(1), palette='viridis')\n"
     ]
    },
    {
     "data": {
      "image/png": "[encoded data removed]",
      "text/plain": [
       "<Figure size 1200x800 with 1 Axes>"
      ]
     },
     "metadata": {},
     "output_type": "display_data"
    },
    {
     "name": "stdout",
     "output_type": "stream",
     "text": [
      "Highest Feature for Aggregate Rating Prediction:                Feature  Importance\n",
      "1695  remainder__Votes    0.944608\n"
     ]
    }
   ],
   "source": [
    "print(\"\\nTop 15 Most Important Features:\")\n",
    "print(importance_df.head(18))\n",
    "plt.figure(figsize=(12, 8))\n",
    "sns.barplot(x='Importance', y='Feature', data=importances_df.head(1), palette='viridis')\n",
    "plt.title('Top 1 Most Important Features for Aggregate Rating Prediction (Untuned Decision Tree)')\n",
    "plt.xlabel('Importance Score')\n",
    "plt.ylabel('Feature')\n",
    "plt.show()\n",
    "print(f\"Highest Feature for Aggregate Rating Prediction: {importances_df.head(1)}\")"
   ]
  },
  {
   "cell_type": "code",
   "execution_count": 68,
   "id": "c2e545ab-6212-4d36-8e79-93667263490a",
   "metadata": {},
   "outputs": [
    {
     "name": "stdout",
     "output_type": "stream",
     "text": [
      "Comparing Actual rating Vs Predicted_value at random index\n",
      "Selected restaurant (original features): \n",
      "[[ 0.31427067  0.23607693 -0.05184217 ...  0.          0.\n",
      "  40.        ]]\n",
      "\n",
      "Actual Aggregate Rating: 3.9\n",
      "Predicted Aggregate Rating: 3.40\n"
     ]
    }
   ],
   "source": [
    "print(\"Comparing Actual rating Vs Predicted_value at random index\")\n",
    "random_index = 10\n",
    "single_restaurant_features = x_test.iloc[[random_index]]\n",
    "actual_rating = y_test.iloc[random_index]\n",
    "single_restaurant_transformed = preprocessor.transform(single_restaurant_features)\n",
    "predicted_rating = decision_tree_model.predict(single_restaurant_transformed)[0]\n",
    "print(f\"Selected restaurant (original features): \\n{single_restaurant_transformed}\")\n",
    "print(f\"\\nActual Aggregate Rating: {actual_rating}\")\n",
    "print(f\"Predicted Aggregate Rating: {predicted_rating:.2f}\")"
   ]
  },
  {
   "cell_type": "code",
   "execution_count": 69,
   "id": "51980852-fcc3-42f5-b391-7126c87ec40c",
   "metadata": {},
   "outputs": [
    {
     "name": "stdout",
     "output_type": "stream",
     "text": [
      "Compare the prediction to the actual rating\n",
      "\n",
      "The model's prediction is very close to the actual rating for this restaurant!\n"
     ]
    }
   ],
   "source": [
    "print(\"Compare the prediction to the actual rating\")\n",
    "prediction_error = abs(actual_rating - predicted_rating)\n",
    "if prediction_error <= 0.5:\n",
    "    print(\"\\nThe model's prediction is very close to the actual rating for this restaurant!\")\n",
    "else:\n",
    "    print(\"\\nThe model's prediction is not as close for this particular restaurant.\")"
   ]
  },
  {
   "cell_type": "code",
   "execution_count": 70,
   "id": "4cf833ed-fb97-4421-8be0-796561ecba6d",
   "metadata": {},
   "outputs": [
    {
     "name": "stdout",
     "output_type": "stream",
     "text": [
      "Requirement already satisfied: joblib in c:\\users\\admin\\anaconda3\\lib\\site-packages (1.1.1)\n",
      "Note: you may need to restart the kernel to use updated packages.\n"
     ]
    }
   ],
   "source": [
    "pip install joblib"
   ]
  },
  {
   "cell_type": "code",
   "execution_count": 71,
   "id": "f51eeef2-ee04-4b66-b359-4e474d63ddd3",
   "metadata": {},
   "outputs": [
    {
     "name": "stdout",
     "output_type": "stream",
     "text": [
      "Decision Tree Model saved successfully as 'decision_tree_model.joblib'\n",
      "Preprocessor saved successfully as 'preprocessor.joblib'\n"
     ]
    }
   ],
   "source": [
    "import joblib\n",
    "model_filename = 'decision_tree_model.joblib'\n",
    "preprocessor_filename = 'preprocessor.joblib'\n",
    "joblib.dump(decision_tree_model, model_filename)\n",
    "print(f\"Decision Tree Model saved successfully as '{model_filename}'\")\n",
    "joblib.dump(preprocessor, preprocessor_filename)\n",
    "print(f\"Preprocessor saved successfully as '{preprocessor_filename}'\")"
   ]
  },
  {
   "cell_type": "code",
   "execution_count": 72,
   "id": "5819b044-d750-4481-92b2-44b7c9b11db0",
   "metadata": {},
   "outputs": [
    {
     "name": "stdout",
     "output_type": "stream",
     "text": [
      "Successfully loaded model of type: DecisionTreeRegressor\n",
      "Successfully loaded preprocessor of type: ColumnTransformer\n"
     ]
    }
   ],
   "source": [
    "import os\n",
    "if os.path.exists(model_filename) and os.path.exists(preprocessor_filename):\n",
    "    loaded_model = joblib.load(model_filename)\n",
    "    loaded_preprocessor = joblib.load(preprocessor_filename)\n",
    "    print(f\"Successfully loaded model of type: {type(loaded_model).__name__}\")\n",
    "    print(f\"Successfully loaded preprocessor of type: {type(loaded_preprocessor).__name__}\")\n",
    "else:\n",
    "    print(\"Saved files not found for loading demonstration.\")"
   ]
  },
  {
   "cell_type": "code",
   "execution_count": 73,
   "id": "2dc374e0-90cf-4b7a-b797-e8fb26d206a4",
   "metadata": {},
   "outputs": [
    {
     "name": "stdout",
     "output_type": "stream",
     "text": [
      "\n",
      "Prediction for this new restaurant:\n",
      "**Predicted Aggregate Rating: 4.10**\n"
     ]
    }
   ],
   "source": [
    "new_restaurant_data = {\n",
    "    'City': ['Gurgaon'],\n",
    "    'Longitude': [77.0886],\n",
    "    'Latitude': [28.4616],\n",
    "    'Cuisines': ['North Indian, Chinese'],\n",
    "    'Average Cost for two': [1500],\n",
    "    'Has Table booking': ['Yes'],\n",
    "    'Has Online delivery': ['Yes'],\n",
    "    'Is delivering now': ['Yes'],\n",
    "    'Price range': [3],\n",
    "    'Country': ['India'],\n",
    "    'Votes': [520]\n",
    "}\n",
    "new_restaurant_df = pd.DataFrame(new_restaurant_data)\n",
    "transformed_new_data = loaded_preprocessor.transform(new_restaurant_df)\n",
    "prediction = loaded_model.predict(transformed_new_data)\n",
    "predicted_rating = prediction[0]\n",
    "print(\"\\nPrediction for this new restaurant:\")\n",
    "print(f\"**Predicted Aggregate Rating: {predicted_rating:.2f}**\")"
   ]
  },
  {
   "cell_type": "code",
   "execution_count": null,
   "id": "b0fc3d64-e92e-444a-be70-717b5f42d57a",
   "metadata": {},
   "outputs": [],
   "source": []
  }
 ],
 "metadata": {
  "kernelspec": {
   "display_name": "Python 3 (ipykernel)",
   "language": "python",
   "name": "python3"
  },
  "language_info": {
   "codemirror_mode": {
    "name": "ipython",
    "version": 3
   },
   "file_extension": ".py",
   "mimetype": "text/x-python",
   "name": "python",
   "nbconvert_exporter": "python",
   "pygments_lexer": "ipython3",
   "version": "3.12.7"
  }
 },
 "nbformat": 4,
 "nbformat_minor": 5
}
